{
  "cells": [
    {
      "cell_type": "code",
      "execution_count": 1,
      "metadata": {
        "colab": {
          "base_uri": "https://localhost:8080/"
        },
        "id": "acwE1e7vOrtX",
        "outputId": "48e657d5-a70f-468e-cb2a-a07f20af1d3b"
      },
      "outputs": [
        {
          "output_type": "stream",
          "name": "stdout",
          "text": [
            "/bin/bash: line 1: nvidia-smi: command not found\n"
          ]
        }
      ],
      "source": [
        "!nvidia-smi"
      ]
    },
    {
      "cell_type": "code",
      "execution_count": null,
      "metadata": {
        "id": "dkxiyS-MPw5A"
      },
      "outputs": [],
      "source": [
        "!pip install -q inference supervision"
      ]
    },
    {
      "cell_type": "code",
      "execution_count": null,
      "metadata": {
        "id": "oJLSSlWwPPk7"
      },
      "outputs": [],
      "source": [
        "!git clone https://github.com/SkalskiP/yolov9.git\n",
        "%cd yolov9\n",
        "!pip install -r requirements.txt -q\n",
        "!pip install -q roboflow"
      ]
    },
    {
      "cell_type": "code",
      "execution_count": 6,
      "metadata": {
        "colab": {
          "base_uri": "https://localhost:8080/"
        },
        "id": "r8N5SLqzOdqb",
        "outputId": "82f46411-6cb4-4f69-f02e-8d55a5b9dbdd"
      },
      "outputs": [
        {
          "output_type": "stream",
          "name": "stdout",
          "text": [
            "/content/yolov9\n"
          ]
        }
      ],
      "source": [
        "import os\n",
        "from IPython.display import Image\n",
        "import cv2\n",
        "import random\n",
        "import getpass\n",
        "from tqdm import tqdm\n",
        "import supervision as sv\n",
        "from roboflow import Roboflow\n",
        "from inference import get_model\n",
        "%matplotlib inline\n",
        "HOME = os.getcwd()\n",
        "print(HOME)"
      ]
    },
    {
      "cell_type": "code",
      "execution_count": null,
      "metadata": {
        "id": "qjDwa9F4PPsJ"
      },
      "outputs": [],
      "source": [
        "%cd {HOME}/yolov9\n",
        "\n",
        "\n",
        "rf = Roboflow(api_key=\"XaYRaTIxrFcAN0CfHjEN\")\n",
        "project = rf.workspace(\"ahmed-ws\").project(\"ball-detection-3afaq\")\n",
        "version = project.version(5)\n",
        "dataset = version.download(\"yolov9\")\n"
      ]
    },
    {
      "cell_type": "code",
      "execution_count": 8,
      "metadata": {
        "colab": {
          "base_uri": "https://localhost:8080/"
        },
        "id": "ElhU9HtbPPub",
        "outputId": "0d71ad87-99c6-48c6-c5b7-9c0b18aabda3"
      },
      "outputs": [
        {
          "output_type": "stream",
          "name": "stderr",
          "text": [
            "Specified provider 'CUDAExecutionProvider' is not in available provider names.Available providers: 'CPUExecutionProvider'\n",
            "Specified provider 'OpenVINOExecutionProvider' is not in available provider names.Available providers: 'CPUExecutionProvider'\n"
          ]
        }
      ],
      "source": [
        "model = get_model(model_id=\"ball-detection-3afaq/5\", api_key=\"XaYRaTIxrFcAN0CfHjEN\")"
      ]
    },
    {
      "cell_type": "code",
      "execution_count": 9,
      "metadata": {
        "colab": {
          "base_uri": "https://localhost:8080/",
          "height": 35
        },
        "id": "V_JRKXIiQgnZ",
        "outputId": "9901482f-752b-473e-b90a-c20a64e387a3"
      },
      "outputs": [
        {
          "output_type": "execute_result",
          "data": {
            "text/plain": [
              "'/content/yolov9/ball-detection-5'"
            ],
            "application/vnd.google.colaboratory.intrinsic+json": {
              "type": "string"
            }
          },
          "metadata": {},
          "execution_count": 9
        }
      ],
      "source": [
        "dataset.location"
      ]
    },
    {
      "cell_type": "code",
      "execution_count": 35,
      "metadata": {
        "id": "0__F2wSucr25"
      },
      "outputs": [],
      "source": [
        "import cv2\n",
        "import os\n",
        "from PIL import Image\n",
        "from IPython.display import display\n",
        "\n",
        "def detect_ball(image):\n",
        "    result = model.infer(image, confidence=0.3)[0]\n",
        "    detections = sv.Detections.from_inference(result)\n",
        "\n",
        "    label_annotator = sv.LabelAnnotator(text_color=sv.Color.BLACK)\n",
        "    bounding_box_annotator = sv.BoundingBoxAnnotator()\n",
        "\n",
        "    annotated_image = image.copy()\n",
        "    annotated_image = bounding_box_annotator.annotate(scene=annotated_image, detections=detections)\n",
        "    annotated_image = label_annotator.annotate(scene=annotated_image, detections=detections)\n",
        "\n",
        "    pil_image = Image.fromarray(cv2.cvtColor(annotated_image, cv2.COLOR_BGR2RGB))\n",
        "\n",
        "    return pil_image"
      ]
    },
    {
      "cell_type": "code",
      "execution_count": 31,
      "metadata": {
        "id": "p_ZaBfczcr25"
      },
      "outputs": [],
      "source": [
        "from tqdm import tqdm\n",
        "\n",
        "def process_video(filepath):\n",
        "    output_folder = 'runtime_processed_images'\n",
        "\n",
        "    if os.path.exists(output_folder) and os.path.isdir(output_folder):\n",
        "        for filename in os.listdir(output_folder):\n",
        "            file_path = os.path.join(output_folder, filename)\n",
        "            try:\n",
        "                if os.path.isfile(file_path):\n",
        "                    os.unlink(file_path)\n",
        "            except Exception as e:\n",
        "                print(f\"Error: {e}\")\n",
        "\n",
        "    if not os.path.exists(output_folder):\n",
        "        os.makedirs(output_folder)\n",
        "\n",
        "    cap = cv2.VideoCapture(filepath)\n",
        "    if not cap.isOpened():\n",
        "        print(\"Error: Could not open video file.\")\n",
        "        return\n",
        "\n",
        "    fps = cap.get(cv2.CAP_PROP_FPS)\n",
        "    frame_width = int(cap.get(cv2.CAP_PROP_FRAME_WIDTH))\n",
        "    frame_height = int(cap.get(cv2.CAP_PROP_FRAME_HEIGHT))\n",
        "\n",
        "    interval = int(fps / 8)\n",
        "\n",
        "    total_frames = int(cap.get(cv2.CAP_PROP_FRAME_COUNT))\n",
        "\n",
        "    frame_count = 0\n",
        "    c = 0\n",
        "    with tqdm(total=total_frames, desc=\"Processing Video...\") as progress_bar:\n",
        "        while cap.isOpened():\n",
        "            ret, frame = cap.read()\n",
        "            if not ret:\n",
        "                break\n",
        "\n",
        "            if frame_count % interval == 0:\n",
        "                annotated_frame = detect_ball(frame)\n",
        "                filename = os.path.join(output_folder, f\"{c}_frame.jpg\")\n",
        "                c += 1\n",
        "                annotated_frame.save(filename)\n",
        "\n",
        "            frame_count += 1\n",
        "            progress_bar.update(1)\n",
        "\n",
        "    cap.release()"
      ]
    },
    {
      "cell_type": "code",
      "source": [
        "fp = \"/content/lbw-dataset/v20.mp4\"\n",
        "process_video(fp)"
      ],
      "metadata": {
        "colab": {
          "base_uri": "https://localhost:8080/"
        },
        "id": "qbcKBbOkrW_4",
        "outputId": "80ce8864-b16c-4882-d70f-8e09565f692f"
      },
      "execution_count": 32,
      "outputs": [
        {
          "output_type": "stream",
          "name": "stderr",
          "text": [
            "Processing Video...: 100%|██████████| 111/111 [01:10<00:00,  1.57it/s]\n"
          ]
        }
      ]
    },
    {
      "cell_type": "code",
      "source": [
        "\n",
        "\n",
        "# Path to your image sequence folder\n",
        "path = '/content/yolov9/runtime_processed_images'\n",
        "\n",
        "# Output folder where the video will be saved\n",
        "out_path = '/content/yolov9'\n",
        "\n",
        "# Output video name\n",
        "out_video_name = 'output_video.mp4'\n",
        "\n",
        "# Full path of the output video\n",
        "out_video_full_path = os.path.join(out_path, out_video_name)\n",
        "\n",
        "# Get the list of image filenames in the folder\n",
        "pre_imgs = os.listdir(path)\n",
        "\n",
        "# Sort the image filenames numerically based on the frame numbers\n",
        "pre_imgs_sorted = sorted(pre_imgs, key=lambda x: int(x.split('_')[0]))\n",
        "\n",
        "# Initialize an empty list to store the full paths of the images\n",
        "img = []\n",
        "\n",
        "# Construct the full paths of the images\n",
        "for img_name in pre_imgs_sorted:\n",
        "    img.append(os.path.join(path, img_name))\n",
        "\n",
        "# Initialize VideoWriter parameters\n",
        "cv2_fourcc = cv2.VideoWriter_fourcc(*'mp4v')\n",
        "frame = cv2.imread(img[0])\n",
        "size = list(frame.shape)\n",
        "del size[2]\n",
        "size.reverse()\n",
        "\n",
        "# Initialize VideoWriter object\n",
        "video = cv2.VideoWriter(out_video_full_path, cv2_fourcc, 10, size) #output video name, fourcc, fps, size\n",
        "\n",
        "# Iterate over each image and write it to the video\n",
        "for i in range(len(img)):\n",
        "    video.write(cv2.imread(img[i]))\n",
        "\n",
        "# Release the VideoWriter object\n",
        "video.release()\n",
        "\n",
        "print('Video Sucessfully Processed!!!')\n"
      ],
      "metadata": {
        "colab": {
          "base_uri": "https://localhost:8080/"
        },
        "id": "uuCmEyVTy6U2",
        "outputId": "c25f680d-d3e4-4196-c527-6c5434e07652"
      },
      "execution_count": 34,
      "outputs": [
        {
          "output_type": "stream",
          "name": "stdout",
          "text": [
            "Video Sucessfully Processed!!!\n"
          ]
        }
      ]
    },
    {
      "cell_type": "code",
      "source": [],
      "metadata": {
        "id": "NB_Me9hI3dab"
      },
      "execution_count": null,
      "outputs": []
    }
  ],
  "metadata": {
    "accelerator": "GPU",
    "colab": {
      "gpuType": "T4",
      "provenance": []
    },
    "kernelspec": {
      "display_name": "Python 3 (ipykernel)",
      "language": "python",
      "name": "python3"
    },
    "language_info": {
      "codemirror_mode": {
        "name": "ipython",
        "version": 3
      },
      "file_extension": ".py",
      "mimetype": "text/x-python",
      "name": "python",
      "nbconvert_exporter": "python",
      "pygments_lexer": "ipython3",
      "version": "3.11.5"
    }
  },
  "nbformat": 4,
  "nbformat_minor": 0
}